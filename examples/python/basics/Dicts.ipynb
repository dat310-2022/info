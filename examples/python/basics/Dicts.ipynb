{
 "cells": [
  {
   "cell_type": "markdown",
   "metadata": {},
   "source": [
    "# Dicts\n",
    "\n",
    "Dictionaries are associative arrays (also known as hashes).\n",
    "  - keys are unique and must be immutable data type (such as strings, numbers, or tuples)\n",
    "  - values need not be unique and can be of any type"
   ]
  },
  {
   "cell_type": "markdown",
   "metadata": {},
   "source": [
    "Empty dict"
   ]
  },
  {
   "cell_type": "code",
   "execution_count": null,
   "metadata": {},
   "outputs": [],
   "source": [
    "empty = {}"
   ]
  },
  {
   "cell_type": "markdown",
   "metadata": {},
   "source": [
    "Each key is separated from its value by a colon (:), the items are separated by commas"
   ]
  },
  {
   "cell_type": "code",
   "execution_count": null,
   "metadata": {},
   "outputs": [],
   "source": [
    "tel = {\"sape\": 4139, \"guido\": 4127, \"jack\": 4098} "
   ]
  },
  {
   "cell_type": "markdown",
   "metadata": {},
   "source": [
    "## Accessing elements"
   ]
  },
  {
   "cell_type": "markdown",
   "metadata": {},
   "source": [
    "Element by key"
   ]
  },
  {
   "cell_type": "code",
   "execution_count": null,
   "metadata": {},
   "outputs": [],
   "source": [
    "if \"guido\" in tel:\n",
    "    print(tel[\"guido\"])"
   ]
  },
  {
   "cell_type": "markdown",
   "metadata": {},
   "source": [
    "Element by key, with a default value if key is not in dictionary"
   ]
  },
  {
   "cell_type": "code",
   "execution_count": null,
   "metadata": {},
   "outputs": [],
   "source": [
    "print(tel.get(\"amy\", 0))"
   ]
  },
  {
   "cell_type": "markdown",
   "metadata": {},
   "source": [
    "Keys of a dict"
   ]
  },
  {
   "cell_type": "code",
   "execution_count": null,
   "metadata": {},
   "outputs": [],
   "source": [
    "list(tel.keys())"
   ]
  },
  {
   "cell_type": "markdown",
   "metadata": {},
   "source": [
    "Values of a dict"
   ]
  },
  {
   "cell_type": "code",
   "execution_count": null,
   "metadata": {},
   "outputs": [],
   "source": [
    "list(tel.values())"
   ]
  },
  {
   "cell_type": "markdown",
   "metadata": {},
   "source": [
    "Length (number of items) "
   ]
  },
  {
   "cell_type": "code",
   "execution_count": null,
   "metadata": {},
   "outputs": [],
   "source": [
    "len(tel)"
   ]
  },
  {
   "cell_type": "markdown",
   "metadata": {},
   "source": [
    "## Manipulating"
   ]
  },
  {
   "cell_type": "markdown",
   "metadata": {},
   "source": [
    "Inserting element"
   ]
  },
  {
   "cell_type": "code",
   "execution_count": null,
   "metadata": {},
   "outputs": [],
   "source": [
    "tel[\"john\"] = \"1234\"\n",
    "tel"
   ]
  },
  {
   "cell_type": "markdown",
   "metadata": {},
   "source": [
    "Deleting element"
   ]
  },
  {
   "cell_type": "code",
   "execution_count": null,
   "metadata": {},
   "outputs": [],
   "source": [
    "del tel[\"john\"]"
   ]
  },
  {
   "cell_type": "markdown",
   "metadata": {},
   "source": [
    "Removing all entries: `tel.clear()`\n",
    "\n",
    "Deleting entire dict: `del tel`"
   ]
  },
  {
   "cell_type": "markdown",
   "metadata": {},
   "source": [
    "## Iterating a dict"
   ]
  },
  {
   "cell_type": "code",
   "execution_count": null,
   "metadata": {},
   "outputs": [],
   "source": [
    "#what will this give?\n",
    "for i in tel:\n",
    "    print(i)"
   ]
  },
  {
   "cell_type": "code",
   "execution_count": null,
   "metadata": {},
   "outputs": [],
   "source": [
    "for k, v in tel.items():\n",
    "    print(\"{:10} {:5}\".format(k, v))"
   ]
  },
  {
   "cell_type": "markdown",
   "metadata": {},
   "source": [
    "Iterating sorted by key"
   ]
  },
  {
   "cell_type": "code",
   "execution_count": null,
   "metadata": {},
   "outputs": [],
   "source": [
    "for k in sorted(tel):\n",
    "    print(\"{:10} {:5}\".format(k, tel[k]))"
   ]
  },
  {
   "cell_type": "markdown",
   "metadata": {},
   "source": [
    "Iterating sorted by decreasing value, using lambda expression to sort by value"
   ]
  },
  {
   "cell_type": "code",
   "execution_count": null,
   "metadata": {},
   "outputs": [],
   "source": [
    "for k,v in sorted(tel.items(), key=lambda x: x[1], reverse=True):\n",
    "    print(\"{:10} {:5}\".format(k, v))"
   ]
  },
  {
   "cell_type": "markdown",
   "metadata": {},
   "source": [
    "## Dict comprehesion\n",
    "\n",
    "Create a dict from arbitrary key and value expressions"
   ]
  },
  {
   "cell_type": "code",
   "execution_count": null,
   "metadata": {},
   "outputs": [],
   "source": [
    "d = {str(i): i**2 for i in range(1,6)}\n",
    "print(d)"
   ]
  },
  {
   "cell_type": "markdown",
   "metadata": {},
   "source": [
    "## Exercise #2a: List filtering\n",
    "\n",
    "Filter all the odd numbers from the list `[1,2,3,4,5]` and store them in a new list.\n",
    "\n",
    "\n",
    "## Exercise #2b: Exam scores\n",
    "\n",
    "The following dictionary stores four students' exam scores for a given course:\n",
    "```\n",
    "d = {\"Adam\": 95, \"Lisa\": 85, \"Bart\": 59, \"Paul\": 74}\n",
    "```\n",
    "Calculate the average, max, and min scores.\n",
    "\n",
    "\n",
    "## Exercise #2c: List and Dictionary operation\n",
    "\n",
    "Similar to the previous exercise, a dictionary stores five students' scores:\n",
    "```\n",
    "e = {\"Adam\": 95, \"Lisa\": 85, \"Bart\": 59, \"Paul\": 74, \"Dave\": 85}\n",
    "```\n",
    "Write a script that lists the name(s) of those who got 85 as score.\n",
    "\n",
    "\n",
    "## Exercise #2d: Data structures\n",
    "\n",
    "Copy the following lines and print out the values of these variables to see how these data structures work:\n",
    "\n",
    "  - `A0 = dict(zip((\"a\", \"b\", \"c\", \"d\", \"e\"), (1, 2, 3, 4, 5)))`\n",
    "  - `A1 = range(10)`\n",
    "  - `A2 = sorted([i for i in A1 if i in A0])`\n",
    "  - `A3 = sorted([A0[s] for s in A0])`\n",
    "  - `A4 = [i for i in A1 if i in A3]`\n",
    "  - `A5 = {i:i*i for i in A1}`\n",
    "  - `A6 = [[i,i*i] for i in A1]`\n"
   ]
  },
  {
   "cell_type": "code",
   "execution_count": null,
   "metadata": {},
   "outputs": [],
   "source": []
  }
 ],
 "metadata": {
  "kernelspec": {
   "display_name": "Python 3",
   "language": "python",
   "name": "python3"
  },
  "language_info": {
   "codemirror_mode": {
    "name": "ipython",
    "version": 3
   },
   "file_extension": ".py",
   "mimetype": "text/x-python",
   "name": "python",
   "nbconvert_exporter": "python",
   "pygments_lexer": "ipython3",
   "version": "3.7.2"
  }
 },
 "nbformat": 4,
 "nbformat_minor": 2
}
