{
 "cells": [
  {
   "cell_type": "markdown",
   "metadata": {},
   "source": [
    "# Fundamentals\n",
    "\n",
    "## Python Interactive mode:\n",
    "![interactive](PythonInteractive.png)\n",
    "\n",
    "Online interpreter: [https://repl.it/languages/python3](https://repl.it/languages/python3)"
   ]
  },
  {
   "cell_type": "markdown",
   "metadata": {},
   "source": [
    "## Variables and identifiers\n",
    "start with a small (a...) or capital letter (A...) or underscore.\n",
    "Can contain letters, _ and numbers.\n",
    "\n",
    "Variables are not initialized. Need to be assigned a value."
   ]
  },
  {
   "cell_type": "code",
   "execution_count": null,
   "metadata": {},
   "outputs": [],
   "source": [
    "a = 1\n",
    "print(a)"
   ]
  },
  {
   "cell_type": "markdown",
   "metadata": {},
   "source": [
    "## Numbers"
   ]
  },
  {
   "cell_type": "code",
   "execution_count": null,
   "metadata": {},
   "outputs": [],
   "source": [
    "#integers\n",
    "b = 8\n",
    "#floats\n",
    "c = 8.0"
   ]
  },
  {
   "cell_type": "code",
   "execution_count": null,
   "metadata": {},
   "outputs": [],
   "source": [
    "b + c"
   ]
  },
  {
   "cell_type": "code",
   "execution_count": null,
   "metadata": {},
   "outputs": [],
   "source": [
    "#declare two variables at once\n",
    "a,b = 3,4\n",
    "b/a"
   ]
  },
  {
   "cell_type": "markdown",
   "metadata": {},
   "source": [
    "## Strings"
   ]
  },
  {
   "cell_type": "code",
   "execution_count": null,
   "metadata": {},
   "outputs": [],
   "source": [
    "s = \"Python\""
   ]
  },
  {
   "cell_type": "markdown",
   "metadata": {},
   "source": [
    "Length of string"
   ]
  },
  {
   "cell_type": "code",
   "execution_count": null,
   "metadata": {},
   "outputs": [],
   "source": [
    "len(s)"
   ]
  },
  {
   "cell_type": "markdown",
   "metadata": {},
   "source": [
    "## Accessing characters\n",
    "\n",
    "Character at a given string position (indexed from `0` to `len(s)-1`)"
   ]
  },
  {
   "cell_type": "code",
   "execution_count": null,
   "metadata": {},
   "outputs": [],
   "source": [
    "s[0]"
   ]
  },
  {
   "cell_type": "code",
   "execution_count": null,
   "metadata": {},
   "outputs": [],
   "source": [
    "s[3]"
   ]
  },
  {
   "cell_type": "markdown",
   "metadata": {},
   "source": [
    "Substring (from start position until end position (exclusive))"
   ]
  },
  {
   "cell_type": "code",
   "execution_count": null,
   "metadata": {},
   "outputs": [],
   "source": [
    "s[1:3]"
   ]
  },
  {
   "cell_type": "markdown",
   "metadata": {},
   "source": [
    "## Exercise #0: Hello python!\n",
    "\n",
    "Create a `hello.py` file with the following line as content:\n",
    "\n",
    "```\n",
    "print(\"Hello python!\")\n",
    "```\n",
    "\n",
    "Run it on your own machine (`python hello.py`)."
   ]
  },
  {
   "cell_type": "markdown",
   "metadata": {},
   "source": [
    "## Control Flow\n",
    "\n",
    "* IF\n",
    "* FOR\n",
    "* Range()\n",
    "* Break & Continue"
   ]
  },
  {
   "cell_type": "markdown",
   "metadata": {},
   "source": [
    "### IF"
   ]
  },
  {
   "cell_type": "code",
   "execution_count": null,
   "metadata": {},
   "outputs": [],
   "source": [
    "x = input(\"Please enter an integer: \")\n",
    "\n",
    "#x = int(x)\n",
    "if x < 0:\n",
    "    x = 0\n",
    "    print('Negative changed to zero')\n",
    "elif x == 0:\n",
    "    print('Zero')\n",
    "elif x == 1:\n",
    "    print('Single')\n",
    "else:\n",
    "    print('More')"
   ]
  },
  {
   "cell_type": "markdown",
   "metadata": {},
   "source": [
    "`elif` and `else` are optional but recommended"
   ]
  },
  {
   "cell_type": "code",
   "execution_count": null,
   "metadata": {},
   "outputs": [],
   "source": [
    "#does not work without indentation\n",
    "if x < 0:\n",
    "print('X is negativ')\n",
    "else:\n",
    "print('positiv')"
   ]
  },
  {
   "cell_type": "markdown",
   "metadata": {},
   "source": [
    "**Indentation is necessary.**"
   ]
  },
  {
   "cell_type": "markdown",
   "metadata": {},
   "source": [
    "### FOR \n",
    "`for` `in` combination is used to iterate through a list:"
   ]
  },
  {
   "cell_type": "code",
   "execution_count": null,
   "metadata": {},
   "outputs": [],
   "source": [
    "words = ['cat', 'window','defenestrate']\n",
    "\n",
    "# Loop through a list and print elements and their length.\n",
    "for w in words:\n",
    "    print(w, len(w))"
   ]
  },
  {
   "cell_type": "code",
   "execution_count": null,
   "metadata": {},
   "outputs": [],
   "source": [
    "# for and if\n",
    "words = ['cat', 'window','defenestrate']\n",
    "for w in words:\n",
    "    print(w, len(w))\n",
    "    if len(w) > 6:\n",
    "        print('long')\n",
    "        #this may run forever\n",
    "        words.insert(0,'bil')"
   ]
  },
  {
   "cell_type": "code",
   "execution_count": null,
   "metadata": {},
   "outputs": [],
   "source": [
    "words = ['cat', 'window','defenestrate']\n",
    "\n",
    "for w in words:\n",
    "    print(w, len(w))\n",
    "    if len(w) > 6:\n",
    "        print('long')\n",
    "        "
   ]
  },
  {
   "cell_type": "markdown",
   "metadata": {},
   "source": [
    "### range() function\n",
    "Use `range(n)` to iterate over all integers between 1 and n:"
   ]
  },
  {
   "cell_type": "code",
   "execution_count": null,
   "metadata": {},
   "outputs": [],
   "source": [
    "for i in range(5):\n",
    "    print(i)"
   ]
  },
  {
   "cell_type": "code",
   "execution_count": null,
   "metadata": {},
   "outputs": [],
   "source": [
    "l = len(words)\n",
    "for i in range(l):\n",
    "    if len(w) > 6:\n",
    "        words.insert(0,'bil')\n",
    "words"
   ]
  },
  {
   "cell_type": "markdown",
   "metadata": {},
   "source": [
    "* `range(n,m)` iterate from `n` to `m`\n",
    "* `range(n,m,i)` iterate from `n` to `m` with step `i`"
   ]
  },
  {
   "cell_type": "code",
   "execution_count": null,
   "metadata": {},
   "outputs": [],
   "source": [
    "for i in range(5,9):\n",
    "    print(i,end=', ')\n",
    "\n",
    "print('')\n",
    "\n",
    "for i in range(0,10,3):\n",
    "    print(i,end=', ')\n",
    "\n",
    "print('')\n",
    "\n",
    "for i in range(-10,-100,-30):\n",
    "    print(i,end=', ')\n",
    "\n",
    "print('')\n",
    "\n",
    "#end=', ' replaces a newline at the end of the printed output with a comma"
   ]
  },
  {
   "cell_type": "code",
   "execution_count": null,
   "metadata": {},
   "outputs": [],
   "source": [
    "range(5)"
   ]
  },
  {
   "cell_type": "code",
   "execution_count": null,
   "metadata": {},
   "outputs": [],
   "source": [
    "list(range(5))"
   ]
  },
  {
   "cell_type": "markdown",
   "metadata": {},
   "source": [
    "### break & continue\n",
    "* `break` breaks out of the samllest enclosing for or while loop\n",
    "* `continue` continues with the next iteration of the loop"
   ]
  },
  {
   "cell_type": "code",
   "execution_count": null,
   "metadata": {},
   "outputs": [],
   "source": [
    "for n in range(2,10):\n",
    "    for x in range(2,n-1):\n",
    "        if n % x == 0:\n",
    "            print(n, 'equals', x, '*', n/x)\n",
    "            break\n",
    "        else:\n",
    "            pass # pass simply does nothing\n",
    "    else: #the else clause is executed if no break was hit in the loop.\n",
    "        print(n, 'is a prime number')"
   ]
  },
  {
   "cell_type": "code",
   "execution_count": null,
   "metadata": {},
   "outputs": [],
   "source": [
    "for num in range(2,10):\n",
    "    if num % 2 == 0:\n",
    "        print('Found an even number', num)\n",
    "        continue\n",
    "    print('Found a number', num)"
   ]
  },
  {
   "cell_type": "markdown",
   "metadata": {},
   "source": [
    "## Exercise #1a: Factorial\n",
    "\n",
    "Ask the user for an integer `n` and compute the factorial for this number.\n",
    "\n",
    "Hints:\n",
    "\n",
    "  - Factorial: `0!=1`; `1!=1`; `2!=2*1=2`; `n!=n*(n-1)*(n-2)*...*1`\n",
    "  - Use `int(input(\"Enter a number: \"))` to manually input a number\n",
    "\n",
    "\n",
    "## Exercise #1b: Fibonacci\n",
    "\n",
    "Ask the use for an integer `n` and print out the [Fibonacci sequence](https://en.wikipedia.org/wiki/Fibonacci_number) up to that number.  \n",
    "E.g., if `n=10`, print out `1 1 2 3 5 8`."
   ]
  },
  {
   "cell_type": "code",
   "execution_count": null,
   "metadata": {},
   "outputs": [],
   "source": []
  }
 ],
 "metadata": {
  "kernelspec": {
   "display_name": "Python 3",
   "language": "python",
   "name": "python3"
  },
  "language_info": {
   "codemirror_mode": {
    "name": "ipython",
    "version": 3
   },
   "file_extension": ".py",
   "mimetype": "text/x-python",
   "name": "python",
   "nbconvert_exporter": "python",
   "pygments_lexer": "ipython3",
   "version": "3.7.2"
  }
 },
 "nbformat": 4,
 "nbformat_minor": 2
}
