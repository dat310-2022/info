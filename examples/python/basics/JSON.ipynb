{
 "cells": [
  {
   "cell_type": "markdown",
   "metadata": {},
   "source": [
    "# JSON\n",
    "\n",
    "JSON (JavaScript Object Notation) is a lightweight data-interchange format, inspired by the JavaScript object literal syntax.\n",
    "\n",
    "See also:\n",
    "  - [JSON syntax](https://www.w3schools.com/js/js_json_syntax.asp)\n",
    "  - [JSON Pretty Print](http://jsonprettyprint.com/)"
   ]
  },
  {
   "cell_type": "markdown",
   "metadata": {},
   "source": [
    "Import `json` module."
   ]
  },
  {
   "cell_type": "code",
   "execution_count": 2,
   "metadata": {
    "collapsed": true
   },
   "outputs": [],
   "source": [
    "import json"
   ]
  },
  {
   "cell_type": "markdown",
   "metadata": {},
   "source": [
    "## Encoding\n",
    "\n",
    "The following translations are supported by default:\n",
    "\n",
    "| Python | JSON |\n",
    "| -- | -- |\n",
    "| dict | object |\n",
    "| list, tuple | array |\n",
    "| str | string |\n",
    "| int, float, int- & float-derived Enums | number |\n",
    "| True | true |\n",
    "| False | false |\n",
    "| None | null |"
   ]
  },
  {
   "cell_type": "markdown",
   "metadata": {},
   "source": [
    "Some values we want to encode as JSON. Typically, we want to pack these into a single variable (often a dict)."
   ]
  },
  {
   "cell_type": "code",
   "execution_count": 3,
   "metadata": {
    "collapsed": true
   },
   "outputs": [],
   "source": [
    "name = \"John Smith\"\n",
    "age = 32\n",
    "places = [\"Stavanger\", \"Oslo\", \"Trondheim\"]\n",
    "\n",
    "values = {\n",
    "    \"name\": name,\n",
    "    \"age\": age,\n",
    "    \"places\": places\n",
    "}"
   ]
  },
  {
   "cell_type": "markdown",
   "metadata": {},
   "source": [
    "Encode as JSON"
   ]
  },
  {
   "cell_type": "code",
   "execution_count": 4,
   "metadata": {},
   "outputs": [
    {
     "name": "stdout",
     "output_type": "stream",
     "text": [
      "{\"name\": \"John Smith\", \"age\": 32, \"places\": [\"Stavanger\", \"Oslo\", \"Trondheim\"]}\n"
     ]
    }
   ],
   "source": [
    "print(json.dumps(values))"
   ]
  },
  {
   "cell_type": "markdown",
   "metadata": {},
   "source": [
    "Encode with pretty printing"
   ]
  },
  {
   "cell_type": "code",
   "execution_count": 5,
   "metadata": {},
   "outputs": [
    {
     "name": "stdout",
     "output_type": "stream",
     "text": [
      "{\n",
      "    \"name\": \"John Smith\",\n",
      "    \"age\": 32,\n",
      "    \"places\": [\n",
      "        \"Stavanger\",\n",
      "        \"Oslo\",\n",
      "        \"Trondheim\"\n",
      "    ]\n",
      "}\n"
     ]
    }
   ],
   "source": [
    "print(json.dumps(values, indent=4))"
   ]
  },
  {
   "cell_type": "markdown",
   "metadata": {},
   "source": [
    "Write JSON data into file"
   ]
  },
  {
   "cell_type": "code",
   "execution_count": 6,
   "metadata": {},
   "outputs": [],
   "source": [
    "with open(\"data.json\", \"w\") as f: \n",
    "    json.dump(values, f) "
   ]
  },
  {
   "cell_type": "markdown",
   "metadata": {},
   "source": [
    "## Decoding\n",
    "\n",
    "The following translations are performed by default:\n",
    "\n",
    "| JSON | Python |\n",
    "| -- | -- |\n",
    "| object | dict |\n",
    "| array | list |\n",
    "| string | str |\n",
    "| number (int) | int |\n",
    "| number (real) | float |\n",
    "| true | True |\n",
    "| false | False |\n",
    "| null | None |"
   ]
  },
  {
   "cell_type": "markdown",
   "metadata": {},
   "source": [
    "Some data in JSON we wish to decode"
   ]
  },
  {
   "cell_type": "code",
   "execution_count": 7,
   "metadata": {
    "collapsed": true
   },
   "outputs": [],
   "source": [
    "data = '[\"foo\", {\"bar\":[\"baz\", null, 1.0, 2]}]'"
   ]
  },
  {
   "cell_type": "markdown",
   "metadata": {},
   "source": [
    "Decode"
   ]
  },
  {
   "cell_type": "code",
   "execution_count": 8,
   "metadata": {},
   "outputs": [
    {
     "name": "stdout",
     "output_type": "stream",
     "text": [
      "['foo', {'bar': ['baz', None, 1.0, 2]}]\n"
     ]
    }
   ],
   "source": [
    "val = json.loads(data)\n",
    "print(val)"
   ]
  },
  {
   "cell_type": "markdown",
   "metadata": {},
   "source": [
    "Load JSON data from file"
   ]
  },
  {
   "cell_type": "code",
   "execution_count": 9,
   "metadata": {},
   "outputs": [
    {
     "name": "stdout",
     "output_type": "stream",
     "text": [
      "{'name': 'John Smith', 'age': 32, 'places': ['Stavanger', 'Oslo', 'Trondheim']}\n"
     ]
    }
   ],
   "source": [
    "with open(\"data.json\", \"r\") as f: \n",
    "    data = json.load(f)\n",
    "print(data)"
   ]
  }
 ],
 "metadata": {
  "kernelspec": {
   "display_name": "Python 3",
   "language": "python",
   "name": "python3"
  },
  "language_info": {
   "codemirror_mode": {
    "name": "ipython",
    "version": 3
   },
   "file_extension": ".py",
   "mimetype": "text/x-python",
   "name": "python",
   "nbconvert_exporter": "python",
   "pygments_lexer": "ipython3",
   "version": "3.7.2"
  }
 },
 "nbformat": 4,
 "nbformat_minor": 2
}
