{
 "cells": [
  {
   "cell_type": "markdown",
   "metadata": {},
   "source": [
    "# Class\n",
    "A user-defined prototype for an object that defines a set of attributes that characterize any object of the class.\n",
    "The attributes are data members (class variables and instance variables) and methods, accessed via dot notation.\n",
    "\n",
    "```\n",
    "class CLassName:\n",
    "    <statement-1>\n",
    "    ...\n",
    "    <statement-N>\n",
    "```"
   ]
  },
  {
   "cell_type": "code",
   "execution_count": 7,
   "metadata": {},
   "outputs": [],
   "source": [
    "class MyStuff:\n",
    "    def __init__(self):\n",
    "        self.color = \"blue\"\n",
    "    def myMethod(self):\n",
    "        print(\"I am\", self.color)"
   ]
  },
  {
   "cell_type": "markdown",
   "metadata": {},
   "source": [
    "## Instantiation\n",
    "Class `MyClass` is instatiated by invoking `MyClass()`. \n",
    "\n",
    "We can define a *constructor* `__init__()` for our class.\n",
    "When a class defines an `__init__()` method, class instantiation automatically invokes `__init__()` \n",
    "for the newly-created class instance."
   ]
  },
  {
   "cell_type": "code",
   "execution_count": 8,
   "metadata": {},
   "outputs": [
    {
     "name": "stdout",
     "output_type": "stream",
     "text": [
      "I am blue .\n"
     ]
    }
   ],
   "source": [
    "myblue = MyStuff()\n",
    "myblue.myMethod()"
   ]
  },
  {
   "cell_type": "markdown",
   "metadata": {},
   "source": [
    "Of course the constructor `__init__()` may have arguments. \n",
    "\n",
    "The first argument of any method is the object (instance). It is not part of the argument list on invocation."
   ]
  },
  {
   "cell_type": "code",
   "execution_count": 43,
   "metadata": {},
   "outputs": [],
   "source": [
    "class Employee:\n",
    "    def __init__(self, name, salary):\n",
    "        self.name = name\n",
    "        self.salary = salary\n",
    "    def displayEmployee(self):\n",
    "        #calling the first argument self is best practice\n",
    "        print('Employee {} with salary {}.'.format(self.name, self.salary))"
   ]
  },
  {
   "cell_type": "code",
   "execution_count": 44,
   "metadata": {},
   "outputs": [
    {
     "name": "stdout",
     "output_type": "stream",
     "text": [
      "Employee Manni with salary 5000.\n"
     ]
    }
   ],
   "source": [
    "zara = Employee('Zara', 2000)\n",
    "manni = Employee('Manni',5000)\n",
    "manni.displayEmployee()"
   ]
  },
  {
   "cell_type": "markdown",
   "metadata": {},
   "source": [
    "### Class and Instance Variables\n",
    "* Class variables are shared by all instances.\n",
    "* Instance variables are unique to each instance."
   ]
  },
  {
   "cell_type": "code",
   "execution_count": 45,
   "metadata": {},
   "outputs": [
    {
     "name": "stdout",
     "output_type": "stream",
     "text": [
      "2\n",
      "1\n"
     ]
    }
   ],
   "source": [
    "\n"
   ]
  },
  {
   "cell_type": "code",
   "execution_count": 53,
   "metadata": {},
   "outputs": [],
   "source": [
    "class CountedEmployee:\n",
    "    # class variable shared by all instances\n",
    "    empCount = 0\n",
    "    def __init__(self, name, salary):\n",
    "        # instance variable unique to each instance\n",
    "        self.name = name\n",
    "        self.salary = salary\n",
    "        CountedEmployee.empCount += 1\n",
    "    def displayEmployee(self):\n",
    "        #calling the first argument self is best practice\n",
    "        print('Employee {} with salary {} is one of {} many employees.'\n",
    "              .format(self.name, self.salary, CountedEmployee.empCount))"
   ]
  },
  {
   "cell_type": "code",
   "execution_count": 54,
   "metadata": {},
   "outputs": [
    {
     "name": "stdout",
     "output_type": "stream",
     "text": [
      "Employee Manni with salary 5000 is one of 2 many employees.\n",
      "2\n",
      "1\n"
     ]
    }
   ],
   "source": [
    "zara = CountedEmployee('Zara', 2000)\n",
    "manni = CountedEmployee('Manni',5000)\n",
    "manni.displayEmployee()\n",
    "\n",
    "print(manni.empCount)\n",
    "CountedEmployee.empCount = 1\n",
    "print(zara.empCount)"
   ]
  },
  {
   "cell_type": "markdown",
   "metadata": {},
   "source": [
    "## Inheritance\n",
    "```\n",
    "class DerivedClassName (BaseClassName):\n",
    "    <statement-1>\n",
    "    ...\n",
    "```\n",
    "\n",
    "* The name `BaseClassName` must be defined in the scope containing the derived class definition.\n",
    "* When the base class is defined in another `module`:\n",
    "\n",
    "```\n",
    "class DerivedClassName (module.BaseClassName):\n",
    "    ...\n",
    "```\n",
    "\n",
    "* A class can be deriveed from multiple base classes: https://www.python-course.eu/python3_multiple_inheritance.php\n",
    "```\n",
    "class DerivedClassName (base1, base2):\n",
    "    ...\n",
    "```\n"
   ]
  },
  {
   "cell_type": "code",
   "execution_count": 57,
   "metadata": {},
   "outputs": [],
   "source": [
    "#Let's make out counted Employee an employee:\n",
    "class CntEmployee (Employee):\n",
    "    empCount = 0\n",
    "    def __init__(self, name, salary):\n",
    "        # call constructor of base class\n",
    "        super().__init__(name, salary)\n",
    "        CntEmployee.empCount += 1\n",
    "    def displayEmployee(self):\n",
    "        #calling the first argument self is best practice\n",
    "        print('Employee {} with salary {} is one of {} many employees.'\n",
    "              .format(self.name, self.salary, CountedEmployee.empCount))"
   ]
  },
  {
   "cell_type": "code",
   "execution_count": 58,
   "metadata": {},
   "outputs": [
    {
     "name": "stdout",
     "output_type": "stream",
     "text": [
      "Employee Manni with salary 5000 is one of 3 many employees.\n",
      "2\n",
      "1\n"
     ]
    }
   ],
   "source": [
    "zara = CntEmployee('Zara', 2000)\n",
    "manni = CntEmployee('Manni',5000)\n",
    "manni.displayEmployee()\n",
    "\n",
    "print(manni.empCount)\n",
    "CntEmployee.empCount = 1\n",
    "print(zara.empCount)"
   ]
  },
  {
   "cell_type": "markdown",
   "metadata": {},
   "source": [
    "## Private Variables and Methods\n",
    "* Private attributes are only available for the members of the class, not for the outside of the class.\n",
    "* Based on naming conventions:\n",
    "    * *Private* methods and variables start with double underscore `__`"
   ]
  },
  {
   "cell_type": "code",
   "execution_count": 81,
   "metadata": {},
   "outputs": [],
   "source": [
    "del(CntEmployee)"
   ]
  },
  {
   "cell_type": "code",
   "execution_count": 82,
   "metadata": {},
   "outputs": [],
   "source": [
    "class CntEmployee (Employee):\n",
    "    __empCount = 0 # private\n",
    "    def __init__(self, name, salary):\n",
    "        # call constructor of base class\n",
    "        super().__init__(name, salary)\n",
    "        CntEmployee.__empCount += 1\n",
    "        \n",
    "    def empCount(self):\n",
    "        return CntEmployee.__empCount\n",
    "    \n"
   ]
  },
  {
   "cell_type": "code",
   "execution_count": 83,
   "metadata": {},
   "outputs": [
    {
     "data": {
      "text/plain": [
       "2"
      ]
     },
     "execution_count": 83,
     "metadata": {},
     "output_type": "execute_result"
    }
   ],
   "source": [
    "zara = CntEmployee('Zara', 2000)\n",
    "manni = CntEmployee('Manni',5000)\n",
    "\n",
    "manni.empCount()"
   ]
  },
  {
   "cell_type": "markdown",
   "metadata": {},
   "source": [
    "## Decorators\n",
    "* Decorators allow you to inject or modify code in functions or classes.\n",
    "* The @ indicates the application of the decorator.\n",
    "    * `@staticmethod` Method belongs to class, but does not use the object at all.\n",
    "    * `@classmethod` Method is bound to the class, rather than an object.\n",
    "    * `@property` and `@{propertyName}.setter` allow to call getter and setter without `()`\n",
    "    "
   ]
  },
  {
   "cell_type": "code",
   "execution_count": 114,
   "metadata": {},
   "outputs": [],
   "source": [
    "class PizzaSize:\n",
    "    __radius = 42\n",
    "    \n",
    "    @staticmethod\n",
    "    def diameter_from_radius(radius):\n",
    "        return 2 * radius\n",
    "    \n",
    "    @classmethod\n",
    "    def get_diameter(cls):\n",
    "        return cls.diameter_from_radius(cls.__radius)"
   ]
  },
  {
   "cell_type": "code",
   "execution_count": 115,
   "metadata": {},
   "outputs": [
    {
     "data": {
      "text/plain": [
       "60"
      ]
     },
     "execution_count": 115,
     "metadata": {},
     "output_type": "execute_result"
    }
   ],
   "source": [
    "PizzaSize.diameter_from_radius(30)"
   ]
  },
  {
   "cell_type": "code",
   "execution_count": 116,
   "metadata": {},
   "outputs": [
    {
     "data": {
      "text/plain": [
       "84"
      ]
     },
     "execution_count": 116,
     "metadata": {},
     "output_type": "execute_result"
    }
   ],
   "source": [
    "PizzaSize.get_diameter()"
   ]
  },
  {
   "cell_type": "code",
   "execution_count": 122,
   "metadata": {},
   "outputs": [],
   "source": [
    "class Pizza(PizzaSize):\n",
    "    def __init__(self, *toppings):\n",
    "        self.__toppings = toppings\n",
    "        \n",
    "    @property\n",
    "    def toppings(self):\n",
    "        separator = ' og '\n",
    "        return separator.join(self.__toppings)"
   ]
  },
  {
   "cell_type": "code",
   "execution_count": 123,
   "metadata": {},
   "outputs": [
    {
     "data": {
      "text/plain": [
       "'Tomat og Ost'"
      ]
     },
     "execution_count": 123,
     "metadata": {},
     "output_type": "execute_result"
    }
   ],
   "source": [
    "margarita = Pizza('Tomat','Ost')\n",
    "margarita.toppings"
   ]
  },
  {
   "cell_type": "markdown",
   "metadata": {},
   "source": [
    "## Exercise #5: CardHolder class\n",
    "\n",
    "Write a Python class of CardHolder. It should initialize a (bank) card holder's name and balance. \n",
    "Also, it should have functions for checking balance, and withdrawing and depositing a given amount."
   ]
  },
  {
   "cell_type": "code",
   "execution_count": null,
   "metadata": {},
   "outputs": [],
   "source": []
  }
 ],
 "metadata": {
  "kernelspec": {
   "display_name": "Python 3",
   "language": "python",
   "name": "python3"
  },
  "language_info": {
   "codemirror_mode": {
    "name": "ipython",
    "version": 3
   },
   "file_extension": ".py",
   "mimetype": "text/x-python",
   "name": "python",
   "nbconvert_exporter": "python",
   "pygments_lexer": "ipython3",
   "version": "3.7.2"
  }
 },
 "nbformat": 4,
 "nbformat_minor": 2
}
