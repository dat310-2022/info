{
 "cells": [
  {
   "cell_type": "markdown",
   "metadata": {},
   "source": [
    "# Output formatting"
   ]
  },
  {
   "cell_type": "code",
   "execution_count": 6,
   "metadata": {},
   "outputs": [
    {
     "name": "stdout",
     "output_type": "stream",
     "text": [
      "first second third\n",
      "first\n",
      "second\n",
      "third\n"
     ]
    }
   ],
   "source": [
    "# from the last lecture\n",
    "print(\"first\", \"second\", \"third\")\n",
    "print(\"first\")\n",
    "print(\"second\")\n",
    "print(\"third\")"
   ]
  },
  {
   "cell_type": "code",
   "execution_count": 7,
   "metadata": {},
   "outputs": [
    {
     "name": "stdout",
     "output_type": "stream",
     "text": [
      "first and second and third\n"
     ]
    }
   ],
   "source": [
    "# from the last lecture\n",
    "print(\"first\", end=\" and \")\n",
    "print(\"second\", end=\" and \")\n",
    "print(\"third\")"
   ]
  },
  {
   "cell_type": "code",
   "execution_count": 9,
   "metadata": {},
   "outputs": [
    {
     "name": "stdout",
     "output_type": "stream",
     "text": [
      "first and second and third\n"
     ]
    }
   ],
   "source": [
    "print(\" and \".join([\"first\", \"second\", \"third\"]))"
   ]
  },
  {
   "cell_type": "markdown",
   "metadata": {},
   "source": [
    "## `str.format()`\n",
    "a) braces are replaced with objects passed to `format()`\n",
    "\n",
    "b) a number in the braces can be used to refer to the position of the object passed into the `format()` method.\n",
    "\n",
    "c) keywords can be added inside braces, when arguments are passed with keywords."
   ]
  },
  {
   "cell_type": "code",
   "execution_count": 13,
   "metadata": {},
   "outputs": [
    {
     "name": "stdout",
     "output_type": "stream",
     "text": [
      "We are the knights who say \"Ni!\"\n",
      "spam and eggs\n",
      "eggs and spam\n",
      "This spam is absolutely horrible.\n"
     ]
    }
   ],
   "source": [
    "# a)\n",
    "print('We are the {} who say \"{}!\"'.format('knights', 'Ni'))\n",
    "\n",
    "# b) \n",
    "print('{0} and {1}'.format('spam', 'eggs'))\n",
    "print('{1} and {0}'.format('spam', 'eggs'))\n",
    "\n",
    "# c)\n",
    "print('This {food} is {adjective}.'.format(food='spam', adjective='absolutely horrible'))\n"
   ]
  },
  {
   "cell_type": "markdown",
   "metadata": {},
   "source": [
    "d) you can use `{:n}` to pad strings with whitespace. \n",
    "    See [pyformat.info](https://pyformat.info/) for more options."
   ]
  },
  {
   "cell_type": "code",
   "execution_count": 19,
   "metadata": {},
   "outputs": [
    {
     "name": "stdout",
     "output_type": "stream",
     "text": [
      "John       02\n"
     ]
    }
   ],
   "source": [
    "print('{:10} {:02d}'.format(\"John\", 2))"
   ]
  },
  {
   "cell_type": "markdown",
   "metadata": {},
   "source": [
    "## Regular experssions\n",
    "`import re`\n",
    "### `re.match(pattern, string)`\n",
    "Check whether the beginning of a *string* match the regular expression *pattern*, return a corresponding match object"
   ]
  },
  {
   "cell_type": "code",
   "execution_count": 21,
   "metadata": {},
   "outputs": [
    {
     "name": "stdout",
     "output_type": "stream",
     "text": [
      "(0, 3)\n",
      "None\n"
     ]
    }
   ],
   "source": [
    "import re\n",
    "print(re.match('www', 'www.runoob.com').span())\n",
    "print(re.match('com', 'www.runoob.com'))"
   ]
  },
  {
   "cell_type": "markdown",
   "metadata": {},
   "source": [
    "### `re.search(pattern, string)`\n",
    "Scan *string* looking for the first location of a *pattern*, return a corresponding match object.\n",
    "\n",
    "http://docs.python.org/3/library/re.html"
   ]
  },
  {
   "cell_type": "code",
   "execution_count": 28,
   "metadata": {},
   "outputs": [
    {
     "name": "stdout",
     "output_type": "stream",
     "text": [
      "(0, 3)\n",
      "(11, 14)\n"
     ]
    }
   ],
   "source": [
    "print(re.search('www', 'www.runoob.com').span())\n",
    "print(re.search('com', 'www.runoob.com').span())"
   ]
  },
  {
   "cell_type": "code",
   "execution_count": 29,
   "metadata": {},
   "outputs": [
    {
     "name": "stdout",
     "output_type": "stream",
     "text": [
      "egg\n"
     ]
    }
   ],
   "source": [
    "print(re.search('(?<=-)\\w+', 'spam-egg').group())"
   ]
  },
  {
   "cell_type": "markdown",
   "metadata": {},
   "source": [
    "## Exercise #6: Output formatting\n",
    "\n",
    "Write a Python class for string processing. It should have the following functions:\n",
    "\n",
    "  - Return a string's lowercase\n",
    "  - Return a string's uppercase\n",
    "  - Format print two strings by using key\n",
    "  - Change a camel-cased word like \"WordVector\" to \"word_vector\".\n",
    "\n",
    "Hints:\n",
    "\n",
    "  - Use `re.sub()` for camel-case conversion\n",
    "  - Read [the Regular Expression Operations](https://docs.python.org/3/library/re.html)"
   ]
  },
  {
   "cell_type": "code",
   "execution_count": null,
   "metadata": {},
   "outputs": [],
   "source": []
  }
 ],
 "metadata": {
  "kernelspec": {
   "display_name": "Python 3",
   "language": "python",
   "name": "python3"
  },
  "language_info": {
   "codemirror_mode": {
    "name": "ipython",
    "version": 3
   },
   "file_extension": ".py",
   "mimetype": "text/x-python",
   "name": "python",
   "nbconvert_exporter": "python",
   "pygments_lexer": "ipython3",
   "version": "3.7.2"
  }
 },
 "nbformat": 4,
 "nbformat_minor": 2
}
