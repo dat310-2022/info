{
 "cells": [
  {
   "cell_type": "markdown",
   "metadata": {},
   "source": [
    "# Functions\n",
    "\n",
    "Syntax:\n",
    "\n",
    "```\n",
    "def functionname(params):\n",
    "   \"\"\"Function docstring\"\"\"\n",
    "   # do something\n",
    "   return [expression]\n",
    "```\n",
    "\n",
    "All parameters (arguments) in Python are passed by reference. I.e., if you change what a parameter refers to within a function, the change also reflects back in the calling function."
   ]
  },
  {
   "cell_type": "markdown",
   "metadata": {},
   "source": [
    "## Required arguments\n",
    "\n",
    "Required arguments need to be passed to a function in correct positional order."
   ]
  },
  {
   "cell_type": "code",
   "execution_count": null,
   "metadata": {},
   "outputs": [],
   "source": [
    "def foo(x):\n",
    "    print(x)\n",
    "    \n",
    "foo(\"bar\")"
   ]
  },
  {
   "cell_type": "code",
   "execution_count": null,
   "metadata": {},
   "outputs": [],
   "source": [
    "foo()  # this will raise an exception"
   ]
  },
  {
   "cell_type": "markdown",
   "metadata": {},
   "source": [
    "## Default arguments \n",
    "\n",
    "Function parameters assuming a default value"
   ]
  },
  {
   "cell_type": "code",
   "execution_count": null,
   "metadata": {},
   "outputs": [],
   "source": [
    "def increment(n, step=1):\n",
    "    return n + step\n",
    "\n",
    "x = increment(3)\n",
    "print(x)\n",
    "\n",
    "y = increment(3, 2)\n",
    "print(y)"
   ]
  },
  {
   "cell_type": "markdown",
   "metadata": {},
   "source": [
    "## Keyword arguments\n",
    "\n",
    "Identifying the arguments by the parameter name. This allows you to skip arguments or place them out of order"
   ]
  },
  {
   "cell_type": "code",
   "execution_count": null,
   "metadata": {},
   "outputs": [],
   "source": [
    "def printinfo(name, age):\n",
    "   print(\"Name: \", name)\n",
    "   print(\"Age: \", age)\n",
    "\n",
    "printinfo(age=50, name=\"miki\")"
   ]
  },
  {
   "cell_type": "markdown",
   "metadata": {},
   "source": [
    "## Variable-length arguments\n",
    "\n",
    "An asterisk (*) is placed before the variable name that holds the values of all nonkeyword variable arguments"
   ]
  },
  {
   "cell_type": "code",
   "execution_count": null,
   "metadata": {},
   "outputs": [],
   "source": [
    "def printinfo(arg1, *vartuple):\n",
    "    print(\"Output is: \", arg1, end=\"\")  # no newline\n",
    "    for var in vartuple:\n",
    "        print(\", \", var, end=\"\")\n",
    "    print()\n",
    "\n",
    "printinfo(10)\n",
    "printinfo(70, 60, 50)"
   ]
  },
  {
   "cell_type": "markdown",
   "metadata": {},
   "source": [
    "## Anonymous functions \n",
    "\n",
    "Anonymous functions are small, throw-away functions without a name.\n",
    "\n",
    "  - Created using the `lambda` keyword, not in the standard manner (by using `def`). \n",
    "  -  Can take any number of arguments but return just one value in the form of an expression.\n",
    "  -  Lambda functions have their own local namespace and cannot access variables other than those in their parameter list and those in the global namespace.\n",
    "\n",
    "Syntax: `lambda argument_list: expression`\n",
    "\n",
    "  - The argument list consists of a comma separated list of arguments and the expression is an arithmetic expression using these arguments."
   ]
  },
  {
   "cell_type": "markdown",
   "metadata": {},
   "source": [
    "Example: sorting a dictionary based on key, where the key is extracted using a lambda expression"
   ]
  },
  {
   "cell_type": "code",
   "execution_count": null,
   "metadata": {},
   "outputs": [],
   "source": [
    "d = {\"a\": 2, \"b\":7, \"c\": 4, \"e\": 3, \"f\": 1}\n",
    "sorted(d.items(), key=lambda x: x[1])"
   ]
  },
  {
   "cell_type": "markdown",
   "metadata": {},
   "source": [
    "#### more examples"
   ]
  },
  {
   "cell_type": "code",
   "execution_count": null,
   "metadata": {},
   "outputs": [],
   "source": [
    "lower = (lambda x, y: x if x < y else y)\n",
    "print(lower(2,3))\n",
    "\n",
    "f = lambda x, y, z: x + y +z\n",
    "print(f(1,2,3))\n",
    "\n",
    "x = (lambda a=\"fee\", b=\"fie\", c=\"foe\": a + b + c)\n",
    "print(x(a='fa'))"
   ]
  },
  {
   "cell_type": "markdown",
   "metadata": {},
   "source": [
    "#### a list of functions"
   ]
  },
  {
   "cell_type": "code",
   "execution_count": null,
   "metadata": {},
   "outputs": [],
   "source": [
    "L = [lambda x: x**2,\n",
    "     lambda x: x**3,\n",
    "     lambda x: x**4]\n",
    "for f in L:\n",
    "    print(f(2))\n",
    "    \n",
    "print('L[0] on 3 gives:', L[0](3))"
   ]
  },
  {
   "cell_type": "markdown",
   "metadata": {},
   "source": [
    "## filter()\n",
    "`filter(function, sequence)` \n",
    "\n",
    "find all elements in `sequence` for which `function` returns `true`"
   ]
  },
  {
   "cell_type": "code",
   "execution_count": null,
   "metadata": {},
   "outputs": [],
   "source": [
    "even = list(filter(lambda x: (x%2 == 0),range(1,11)))\n",
    "print(even)"
   ]
  },
  {
   "cell_type": "markdown",
   "metadata": {},
   "source": [
    "## map()\n",
    "\n",
    "```map(function, sequence)``` \n",
    "\n",
    "apply `function` to every element in `sequence`"
   ]
  },
  {
   "cell_type": "code",
   "execution_count": null,
   "metadata": {},
   "outputs": [],
   "source": [
    "is_even = list(map(lambda x: (x%2 == 0),range(1,11)))\n",
    "print(is_even)"
   ]
  },
  {
   "cell_type": "markdown",
   "metadata": {},
   "source": [
    "## Exercise #3a: Fibonacci function\n",
    "\n",
    "Write a function of Fibonacci which return Fibonacci sequence up to `n`.\n",
    "\n",
    "  - Hint: Put the scripts you have created in Exercise 1b into a function structure\n",
    "\n",
    "\n",
    "## Exercise #3b: Sorting\n",
    "\n",
    "Write a function that takes a list of numbers as parameter, and returns the list sorted.\n",
    "\n",
    "  - Hint: use `list.sort()` or implement on your own sorting (give it a try!)\n",
    "\n",
    "\n",
    "## Exercise #3c: Reverse string\n",
    "\n",
    "Write a function that takes a string as parameter and return the reversed string. E.g., given the input `abcde` it should return `edcba`."
   ]
  },
  {
   "cell_type": "code",
   "execution_count": null,
   "metadata": {},
   "outputs": [],
   "source": []
  }
 ],
 "metadata": {
  "kernelspec": {
   "display_name": "Python 3",
   "language": "python",
   "name": "python3"
  },
  "language_info": {
   "codemirror_mode": {
    "name": "ipython",
    "version": 3
   },
   "file_extension": ".py",
   "mimetype": "text/x-python",
   "name": "python",
   "nbconvert_exporter": "python",
   "pygments_lexer": "ipython3",
   "version": "3.7.2"
  }
 },
 "nbformat": 4,
 "nbformat_minor": 2
}
